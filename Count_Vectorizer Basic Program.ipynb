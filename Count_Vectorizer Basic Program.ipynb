{
 "cells": [
  {
   "cell_type": "code",
   "execution_count": 1,
   "metadata": {},
   "outputs": [],
   "source": [
    "from sklearn.feature_extraction.text import CountVectorizer"
   ]
  },
  {
   "cell_type": "code",
   "execution_count": 45,
   "metadata": {},
   "outputs": [
    {
     "name": "stdout",
     "output_type": "stream",
     "text": [
      "{'my': 7, 'name': 8, 'is': 6, 'akhil': 1, 'saxena': 11, 'am': 2, '21': 0, 'years': 14, 'old': 10, 'study': 13, 'computer': 3, 'science': 12, 'interested': 5, 'in': 4, 'nlp': 9}\n"
     ]
    }
   ],
   "source": [
    "# Code written with help from sklearn tutorial on CountVectorizer\n",
    "\n",
    "vectorizer= CountVectorizer()\n",
    "doc_set= ['My name is Akhil Saxena.', \n",
    "          'I am 21 years old.',\n",
    "          'I study Computer Science.', \n",
    "          'I am interested in NLP.'\n",
    "         ]\n",
    "vectorizer.fit(doc_set)\n",
    "print(vectorizer.vocabulary_)\n",
    "vector= vectorizer.transform(doc_set) "
   ]
  },
  {
   "cell_type": "code",
   "execution_count": 47,
   "metadata": {},
   "outputs": [
    {
     "name": "stdout",
     "output_type": "stream",
     "text": [
      "[[0 1 0 0 0 0 1 1 1 0 0 1 0 0 0]\n",
      " [1 0 1 0 0 0 0 0 0 0 1 0 0 0 1]\n",
      " [0 0 0 1 0 0 0 0 0 0 0 0 1 1 0]\n",
      " [0 0 1 0 1 1 0 0 0 1 0 0 0 0 0]]\n"
     ]
    }
   ],
   "source": [
    "print(vector.toarray())"
   ]
  },
  {
   "cell_type": "code",
   "execution_count": null,
   "metadata": {},
   "outputs": [],
   "source": [
    "# Array shows all the possible words and which words the document contains."
   ]
  }
 ],
 "metadata": {
  "kernelspec": {
   "display_name": "Python 3",
   "language": "python",
   "name": "python3"
  },
  "language_info": {
   "codemirror_mode": {
    "name": "ipython",
    "version": 3
   },
   "file_extension": ".py",
   "mimetype": "text/x-python",
   "name": "python",
   "nbconvert_exporter": "python",
   "pygments_lexer": "ipython3",
   "version": "3.7.4"
  }
 },
 "nbformat": 4,
 "nbformat_minor": 2
}
