{
 "cells": [
  {
   "cell_type": "code",
   "execution_count": 19,
   "metadata": {},
   "outputs": [],
   "source": [
    "from nltk.tokenize import sent_tokenize\n",
    "from nltk.tokenize import word_tokenize\n",
    "from nltk.stem import PorterStemmer\n",
    "import spacy"
   ]
  },
  {
   "cell_type": "code",
   "execution_count": 60,
   "metadata": {},
   "outputs": [],
   "source": [
    "a= \"\"\"The 62nd Annual Grammy Awards ceremony was held on January 26, 2020, at the Staples Center in Los Angeles. It recognized the best recordings, compositions, and artists of the eligibility year, running from October 1, 2018 to August 31, 2019. Alicia Keys hosted the ceremony, having hosted the previous year's ceremony as well.\"\"\"\n",
    "b=\"\"\"The 61st Annual Grammy Awards ceremony was held on February 10, 2019, at Staples Center in Los Angeles. Singer-songwriter Alicia Keys hosted. During her opening monologue Keys brought out Lady Gaga, Jada Pinkett Smith, Jennifer Lopez, and former First Lady of the United States Michelle Obama, each of whom spoke about impact that music had on their lives.\n",
    "The ceremony recognized the best recordings, compositions, and artists of the eligibility year, which ran from October 1, 2017, to September 30, 2018. Nominations were announced on December 7, 2018.\"\"\"\n",
    "A=a.lower()\n",
    "B=b.lower()"
   ]
  },
  {
   "cell_type": "code",
   "execution_count": 61,
   "metadata": {},
   "outputs": [
    {
     "name": "stdout",
     "output_type": "stream",
     "text": [
      "['the', '62nd', 'annual', 'grammy', 'awards', 'ceremony', 'was', 'held', 'on', 'january', '26', ',', '2020', ',', 'at', 'the', 'staples', 'center', 'in', 'los', 'angeles', '.', 'it', 'recognized', 'the', 'best', 'recordings', ',', 'compositions', ',', 'and', 'artists', 'of', 'the', 'eligibility', 'year', ',', 'running', 'from', 'october', '1', ',', '2018', 'to', 'august', '31', ',', '2019.', 'alicia', 'keys', 'hosted', 'the', 'ceremony', ',', 'having', 'hosted', 'the', 'previous', 'year', \"'s\", 'ceremony', 'as', 'well', '.']\n",
      "['the', '61st', 'annual', 'grammy', 'awards', 'ceremony', 'was', 'held', 'on', 'february', '10', ',', '2019', ',', 'at', 'staples', 'center', 'in', 'los', 'angeles', '.', 'singer-songwriter', 'alicia', 'keys', 'hosted', '.', 'during', 'her', 'opening', 'monologue', 'keys', 'brought', 'out', 'lady', 'gaga', ',', 'jada', 'pinkett', 'smith', ',', 'jennifer', 'lopez', ',', 'and', 'former', 'first', 'lady', 'of', 'the', 'united', 'states', 'michelle', 'obama', ',', 'each', 'of', 'whom', 'spoke', 'about', 'impact', 'that', 'music', 'had', 'on', 'their', 'lives', '.', 'the', 'ceremony', 'recognized', 'the', 'best', 'recordings', ',', 'compositions', ',', 'and', 'artists', 'of', 'the', 'eligibility', 'year', ',', 'which', 'ran', 'from', 'october', '1', ',', '2017', ',', 'to', 'september', '30', ',', '2018.', 'nominations', 'were', 'announced', 'on', 'december', '7', ',', '2018', '.']\n"
     ]
    }
   ],
   "source": [
    "List_A= word_tokenize(A)\n",
    "List_B= word_tokenize(B)\n",
    "print(List_A)\n",
    "print(List_B)"
   ]
  },
  {
   "cell_type": "code",
   "execution_count": 62,
   "metadata": {},
   "outputs": [],
   "source": [
    "Porter_Stemmer=PorterStemmer()\n",
    "Stemmed_List_A=[]\n",
    "Stemmed_List_B=[]\n",
    "for i in List_A:\n",
    "    Stemmed_List_A.append(Porter_Stemmer.stem(i))\n",
    "\n",
    "for j in List_B:\n",
    "    Stemmed_List_B.append(Porter_Stemmer.stem(j))"
   ]
  },
  {
   "cell_type": "code",
   "execution_count": 70,
   "metadata": {},
   "outputs": [
    {
     "name": "stdout",
     "output_type": "stream",
     "text": [
      "{'recordings', 'staples', 'grammy', 'the', 'from', 'in', 'los', 'hosted', 'keys', 'year', 'annual', 'angeles', 'at', '2018', 'october', 'was', 'center', 'of', 'alicia', '1', ',', '.', 'to', 'held', 'artists', 'eligibility', 'and', 'awards', 'on', 'best', 'recognized', 'compositions', 'ceremony'}\n"
     ]
    }
   ],
   "source": [
    "Set_A= set(List_A)\n",
    "Set_B= set(List_B)\n",
    "\n",
    "Set_C= Set_A & Set_B\n",
    "print(Set_C)"
   ]
  },
  {
   "cell_type": "code",
   "execution_count": 71,
   "metadata": {},
   "outputs": [
    {
     "name": "stdout",
     "output_type": "stream",
     "text": [
      "39.053254437869825\n"
     ]
    }
   ],
   "source": [
    "Length_A=len(List_A)\n",
    "Length_B=len(List_B)\n",
    "Length_C=len(Set_C)\n",
    "\n",
    "Total_Words=Length_A + Length_B\n",
    "Common_Words= Length_C\n",
    "Similarity=((Common_Words*2)/Total_Words)*100\n",
    "print(Similarity)"
   ]
  }
 ],
 "metadata": {
  "kernelspec": {
   "display_name": "Python 3",
   "language": "python",
   "name": "python3"
  },
  "language_info": {
   "codemirror_mode": {
    "name": "ipython",
    "version": 3
   },
   "file_extension": ".py",
   "mimetype": "text/x-python",
   "name": "python",
   "nbconvert_exporter": "python",
   "pygments_lexer": "ipython3",
   "version": "3.7.4"
  }
 },
 "nbformat": 4,
 "nbformat_minor": 2
}
